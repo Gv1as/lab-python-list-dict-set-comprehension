{
 "cells": [
  {
   "cell_type": "markdown",
   "id": "25d7736c-ba17-4aff-b6bb-66eba20fbf4e",
   "metadata": {},
   "source": [
    "# Lab | List, Dict and Set Comprehension"
   ]
  },
  {
   "cell_type": "markdown",
   "id": "7dd3cbde-675a-4b81-92c3-f728846dbe06",
   "metadata": {},
   "source": [
    "## Exercise: Managing Customer Orders Optimized with Comprehension"
   ]
  },
  {
   "cell_type": "markdown",
   "id": "5d500160-2fb7-4777-b5e4-09d45ebaf328",
   "metadata": {},
   "source": [
    "In the previous exercise, you developed a program to manage customer orders and inventory. Now, let's take it a step further and incorporate comprehension into your code.\n",
    "\n",
    "Follow the steps below to complete the exercise:\n",
    "\n",
    "1. Review your code from the previous exercise and identify areas where you can apply comprehension to simplify and streamline your code. \n",
    "\n",
    "    - *Hint: Apply it to initialize inventory, updating the inventory and printing the updated inventory.*\n",
    "    \n",
    "    - For example, in initializing the inventory, we could have:\n",
    "    \n",
    "        ```python\n",
    "        def initialize_inventory(products):\n",
    "            inventory = {product: int(input(f\"Enter the quantity of {product}s available: \")) for product in products}\n",
    "            return inventory\n",
    "\n",
    "        ```\n",
    "<br>\n",
    "    \n",
    "    \n",
    "2. Modify the function get_customer_orders so it prompts the user to enter the number of customer orders and gathers the product names using a loop and user input. Use comprehension.\n",
    "\n",
    "3. Add a new function to calculate the total price of the customer order. For each product in customer_orders, prompt the user to enter the price of that product. Use comprehension to calculate the total price. Note: assume that the user can only have 1 unit of each product.\n",
    "\n",
    "4. Modify the update_inventory function to remove the product from the inventory if its quantity becomes zero after fulfilling the customer orders. Use comprehension to filter out the products with a quantity of zero from the inventory.\n",
    "\n",
    "5. Print the total price of the customer order.\n",
    "\n",
    "Your code should produce output similar to the following:\n",
    "\n",
    "```python\n",
    "Enter the quantity of t-shirts available:  5\n",
    "Enter the quantity of mugs available:  4\n",
    "Enter the quantity of hats available:  3\n",
    "Enter the quantity of books available:  2\n",
    "Enter the quantity of keychains available:  1\n",
    "Enter the number of customer orders:  2\n",
    "Enter the name of a product that a customer wants to order:  hat\n",
    "Enter the name of a product that a customer wants to order:  keychain\n",
    "\n",
    "Order Statistics:\n",
    "Total Products Ordered: 2\n",
    "Percentage of Unique Products Ordered: 40.0\n",
    "\n",
    "Updated Inventory:\n",
    "t-shirt: 5\n",
    "mug: 4\n",
    "hat: 2\n",
    "book: 2\n",
    "Enter the price of keychain:  5\n",
    "Enter the price of hat:  10\n",
    "Total Price: 15.0\n",
    "\n",
    "```\n"
   ]
  },
  {
   "cell_type": "code",
   "execution_count": 6,
   "id": "ce12f040-8ad3-469c-b356-5c9f02ef7373",
   "metadata": {},
   "outputs": [],
   "source": [
    "def initialize_inventory(products):\n",
    "    inventory = {i: int(input(f\"Enter the quantity of {i} available:  \")) for i in products}\n",
    "    return inventory\n",
    "\n",
    "products = [\"t-shirt\", \"mug\", \"hat\", \"book\", \"keychain\"]\n",
    "\n",
    "    "
   ]
  },
  {
   "cell_type": "code",
   "execution_count": 7,
   "id": "076fb17f-e5eb-4f33-b67b-a0284278f3a3",
   "metadata": {},
   "outputs": [],
   "source": [
    "def get_customer_orders():\n",
    "    #products_check = [\"t-shirt\", \"mug\", \"hat\", \"book\", \"keychain\"]\n",
    "    products_check = [item for item in inventory.keys()]\n",
    "    customer_orders = []\n",
    "    while True:\n",
    "        amount = input(\"Enter the number of customer orders:  \")\n",
    "        try:\n",
    "            amount = int(amount)\n",
    "            if amount > 5:\n",
    "                print(\"You can only order up to 1 unit per article. please enter a number not greater than 5: \")\n",
    "                continue\n",
    "            elif amount < 0:\n",
    "                print(\"Please enter a positive integer.\")\n",
    "                continue\n",
    "            break\n",
    "        except ValueError:\n",
    "            print(\"Please enter an integer number \")   \n",
    "\n",
    "    for i in range(amount):\n",
    "        while True:\n",
    "            product = input(f\"What would you like to order? {products_check} \").lower()\n",
    "            if product in products_check:\n",
    "                customer_orders.append(product)\n",
    "                products_check.remove(product)\n",
    "                break\n",
    "            else:\n",
    "                print(\"Please choose an item from the available inventory that you haven't ordered yet.\")\n",
    "\n",
    "    return customer_orders\n",
    "\n"
   ]
  },
  {
   "cell_type": "code",
   "execution_count": 8,
   "id": "3be975ea-a134-44ac-a4fe-f5ce8560d705",
   "metadata": {},
   "outputs": [],
   "source": [
    "def calcuate_price(orders):\n",
    "    price = {item: int(input(f\"Please enter the price for {item}: \")) for item in orders}\n",
    "    total_price = sum(value for value in price.values())\n",
    "    return total_price"
   ]
  },
  {
   "cell_type": "code",
   "execution_count": 9,
   "id": "53ed11c8-b3f7-4391-9762-1a2b14ce6c3f",
   "metadata": {},
   "outputs": [],
   "source": [
    "def update_inventory(customer_orders, inventory):\n",
    "    for item in customer_orders:\n",
    "        if item in inventory and inventory[item] >= 0:\n",
    "            inventory[item] -= 1     \n",
    "    inventory = {item: quantity for item, quantity in inventory.items() if quantity > 0}\n",
    "    return inventory"
   ]
  },
  {
   "cell_type": "code",
   "execution_count": 10,
   "id": "bdae5c83-7263-4b3d-9408-82751078fead",
   "metadata": {},
   "outputs": [
    {
     "name": "stdin",
     "output_type": "stream",
     "text": [
      "Enter the quantity of t-shirt available:   2\n",
      "Enter the quantity of mug available:   2\n",
      "Enter the quantity of hat available:   2\n",
      "Enter the quantity of book available:   2\n",
      "Enter the quantity of keychain available:   2\n",
      "Enter the number of customer orders:   2\n",
      "What would you like to order? ['t-shirt', 'mug', 'hat', 'book', 'keychain']  hat\n",
      "What would you like to order? ['t-shirt', 'mug', 'book', 'keychain']  book\n",
      "Please enter the price for hat:  5\n",
      "Please enter the price for book:  6\n"
     ]
    },
    {
     "name": "stdout",
     "output_type": "stream",
     "text": [
      "Order statistisc: 2\n",
      "Percentage of Unique Products Ordered: 40.0\n",
      "Updated Inventory:\n",
      "t-shirt: 2\n",
      "mug: 2\n",
      "hat: 1\n",
      "book: 1\n",
      "keychain: 2\n",
      "Total price: 11\n"
     ]
    }
   ],
   "source": [
    "inventory = initialize_inventory(products)\n",
    "customer_orders = get_customer_orders()\n",
    "total_price = calcuate_price(customer_orders)\n",
    "inventory = update_inventory(customer_orders, inventory)\n",
    "\n",
    "print(f\"Order statistisc: {len(customer_orders)}\")\n",
    "print(f\"Percentage of Unique Products Ordered: {round((len(customer_orders)/len(inventory.keys())*100), 2)}\")\n",
    "print(\"Updated Inventory:\")\n",
    "print('\\n'.join([f\"{item}: {quantity}\" for item, quantity in inventory.items()]))\n",
    "print(f\"Total price: {total_price}\")"
   ]
  },
  {
   "cell_type": "code",
   "execution_count": null,
   "id": "3de242c4-70d4-43ce-a599-32158b1054de",
   "metadata": {},
   "outputs": [],
   "source": []
  }
 ],
 "metadata": {
  "kernelspec": {
   "display_name": "Python 3 (ipykernel)",
   "language": "python",
   "name": "python3"
  },
  "language_info": {
   "codemirror_mode": {
    "name": "ipython",
    "version": 3
   },
   "file_extension": ".py",
   "mimetype": "text/x-python",
   "name": "python",
   "nbconvert_exporter": "python",
   "pygments_lexer": "ipython3",
   "version": "3.8.18"
  }
 },
 "nbformat": 4,
 "nbformat_minor": 5
}
